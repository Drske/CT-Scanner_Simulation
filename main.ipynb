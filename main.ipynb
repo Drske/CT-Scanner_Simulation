{
 "cells": [
  {
   "cell_type": "code",
   "execution_count": 40,
   "metadata": {},
   "outputs": [],
   "source": [
    "import numpy as np\n",
    "import scipy as sp\n",
    "from skimage.draw import line_nd\n",
    "import cv2\n",
    "from copy import deepcopy\n",
    "from matplotlib import pyplot as plt\n",
    "from ipywidgets import interact\n"
   ]
  },
  {
   "cell_type": "markdown",
   "metadata": {},
   "source": [
    "### Wczytanie obrazu i parametrów"
   ]
  },
  {
   "cell_type": "code",
   "execution_count": 41,
   "metadata": {},
   "outputs": [
    {
     "data": {
      "application/vnd.jupyter.widget-view+json": {
       "model_id": "e95ad06711214f2192a4422d7d91e843",
       "version_major": 2,
       "version_minor": 0
      },
      "text/plain": [
       "interactive(children=(IntSlider(value=405, description='scans', max=720, min=90, step=45), Output()), _dom_cla…"
      ]
     },
     "metadata": {},
     "output_type": "display_data"
    },
    {
     "data": {
      "application/vnd.jupyter.widget-view+json": {
       "model_id": "11aeef97dff34b1cbc6533abefecd6b5",
       "version_major": 2,
       "version_minor": 0
      },
      "text/plain": [
       "interactive(children=(IntSlider(value=360, description='detectors', max=720, min=90, step=90), Output()), _dom…"
      ]
     },
     "metadata": {},
     "output_type": "display_data"
    },
    {
     "data": {
      "application/vnd.jupyter.widget-view+json": {
       "model_id": "3bdaa188513e43e5931f45aaeef0d897",
       "version_major": 2,
       "version_minor": 0
      },
      "text/plain": [
       "interactive(children=(IntSlider(value=135, description='opening', max=270, min=45, step=45), Output()), _dom_c…"
      ]
     },
     "metadata": {},
     "output_type": "display_data"
    },
    {
     "name": "stdout",
     "output_type": "stream",
     "text": [
      "Scans: 90\n",
      "Detectors: 180\n",
      "Opening: 135\n"
     ]
    }
   ],
   "source": [
    "\n",
    "input_img = plt.imread(\"./example_photos/kropka.jpg\")\n",
    "# if len(np.shape(input_img)) == 3:\n",
    "#     input_img = cv2.cvtColor(input_img, cv2.COLOR_BGR2GRAY)\n",
    "\n",
    "\n",
    "def parameter1(scans):\n",
    "    return scans\n",
    "\n",
    "\n",
    "def parameter2(detectors):\n",
    "    return detectors\n",
    "\n",
    "\n",
    "def parameter3(opening):\n",
    "    return opening\n",
    "\n",
    "\n",
    "interact(parameter1, scans=(90, 720, 45))\n",
    "interact(parameter2, detectors=(90, 720, 90))\n",
    "interact(parameter3, opening=(45, 270, 45))\n",
    "\n",
    "scans = 90\n",
    "detectors = 180\n",
    "opening = 135\n",
    "\n",
    "print(\"Scans:\", scans)\n",
    "print(\"Detectors:\", detectors)\n",
    "print(\"Opening:\", opening)\n"
   ]
  },
  {
   "cell_type": "markdown",
   "metadata": {},
   "source": [
    "### Opisanie okręgu na obrazie"
   ]
  },
  {
   "cell_type": "code",
   "execution_count": 42,
   "metadata": {},
   "outputs": [
    {
     "name": "stdout",
     "output_type": "stream",
     "text": [
      "Shape: 400 400\n",
      "Center: 200 200\n",
      "Radius: 282\n"
     ]
    }
   ],
   "source": [
    "# Image shape\n",
    "img_heigth, img_width, _ = np.shape(input_img)\n",
    "print(\"Shape:\", img_heigth, img_width)\n",
    "\n",
    "# Center of mass\n",
    "cx = int(img_heigth / 2)\n",
    "cy = int(img_width / 2)\n",
    "print(\"Center:\", cx, cy)\n",
    "\n",
    "# Radius\n",
    "radius = int(np.floor(0.5 * np.sqrt(img_heigth**2 + img_width**2)))\n",
    "print(\"Radius:\", radius)\n"
   ]
  },
  {
   "cell_type": "markdown",
   "metadata": {},
   "source": [
    "### Tworzenie sinogramu"
   ]
  },
  {
   "cell_type": "code",
   "execution_count": 43,
   "metadata": {},
   "outputs": [
    {
     "name": "stdout",
     "output_type": "stream",
     "text": [
      "(90, 180, 3)\n"
     ]
    },
    {
     "data": {
      "image/png": "[encoded data removed]",
      "text/plain": [
       "<Figure size 432x288 with 1 Axes>"
      ]
     },
     "metadata": {
      "needs_background": "light"
     },
     "output_type": "display_data"
    }
   ],
   "source": [
    "alpha = 360 / scans\n",
    "step = alpha\n",
    "n = detectors\n",
    "l = opening\n",
    "\n",
    "shots = []\n",
    "E = []\n",
    "D = []\n",
    "\n",
    "sinogram = []\n",
    "\n",
    "for _ in range(scans):\n",
    "    shots.append(deepcopy(input_img))\n",
    "    \n",
    "    # Calculating emiter's position\n",
    "    xe = radius * np.cos(np.deg2rad(alpha))\n",
    "    # xe = int(np.floor(xe))\n",
    "    ye = radius * np.sin(np.deg2rad(alpha))\n",
    "    # ye = int(np.floor(ye))\n",
    "    \n",
    "    E.append((cx - xe, cy - ye))\n",
    "\n",
    "    # Drawing emiter on an image\n",
    "    # cv2.circle(shots[-1], E[-1], 7, (0, 255, 0), 3)\n",
    "\n",
    "    D.append([])\n",
    "    sinogram.append([])\n",
    "\n",
    "    for i in range(n):\n",
    "        # Calculating detector's position\n",
    "        xd = radius * np.cos(np.deg2rad(alpha + np.pi - l / 2 + i * (l / (n-1))))\n",
    "        # xd = int(np.floor(xd))\n",
    "        yd = radius * np.sin(np.deg2rad(alpha + np.pi - l / 2 + i * (l / (n-1))))\n",
    "        # yd = int(np.floor(yd))\n",
    "        D[-1].append((xd + cx, yd + cy))\n",
    "\n",
    "        # Drawing detector on the image\n",
    "        # cv2.circle(shots[-1], D[-1][-1], 3, (255, 0, 0), 1)\n",
    "        \n",
    "        # Calculating points of the line\n",
    "        line_x_points, line_y_points = line_nd(E[-1], D[-1][-1])\n",
    "        \n",
    "        brightness = 0\n",
    "        sumof = 0\n",
    "        \n",
    "        for (x, y) in zip (line_x_points, line_y_points):\n",
    "            # Drawing line on the image\n",
    "            # cv2.circle(shots[-1], (x,y), 0, (0, 0, 255), -1)\n",
    "            \n",
    "            # Calculating mean brightness\n",
    "            if x >= 0 and x < img_width and y >= 0 and y < img_heigth:\n",
    "                brightness += input_img[x][y]\n",
    "                sumof += 1\n",
    "                \n",
    "        # Adding results to sinogram\n",
    "       \n",
    "        brightness = brightness / sumof\n",
    "        sinogram[-1].append(brightness)\n",
    "            \n",
    "    alpha += step\n",
    "    \n",
    "\n",
    "print(np.shape(sinogram))\n",
    "plt.imshow(sinogram)\n",
    "plt.show()\n",
    "\n",
    "# for img in shots:\n",
    "#     plt.imshow(img)\n",
    "#     plt.show()\n"
   ]
  },
  {
   "cell_type": "code",
   "execution_count": 44,
   "metadata": {},
   "outputs": [
    {
     "data": {
      "text/plain": [
       "[<matplotlib.lines.Line2D at 0x11c2a0410>]"
      ]
     },
     "execution_count": 44,
     "metadata": {},
     "output_type": "execute_result"
    },
    {
     "data": {
      "image/png": "[encoded data removed]",
      "text/plain": [
       "<Figure size 432x288 with 1 Axes>"
      ]
     },
     "metadata": {
      "needs_background": "light"
     },
     "output_type": "display_data"
    }
   ],
   "source": [
    "start = (0, 0)\n",
    "stop = (6.7, 10.2)\n",
    "x, y = line_nd(start, stop)\n",
    "plt.plot(x, y)\n"
   ]
  }
 ],
 "metadata": {
  "interpreter": {
   "hash": "aac63f29b833a22f0f5b0386fc8cbe8cf40522d8dd547a2436d98472f289c3c0"
  },
  "kernelspec": {
   "display_name": "Python 3.7.8 64-bit ('3.7.8': pyenv)",
   "language": "python",
   "name": "python3"
  },
  "language_info": {
   "codemirror_mode": {
    "name": "ipython",
    "version": 3
   },
   "file_extension": ".py",
   "mimetype": "text/x-python",
   "name": "python",
   "nbconvert_exporter": "python",
   "pygments_lexer": "ipython3",
   "version": "3.7.8"
  },
  "orig_nbformat": 4
 },
 "nbformat": 4,
 "nbformat_minor": 2
}
