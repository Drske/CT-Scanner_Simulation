{
 "cells": [
  {
   "cell_type": "markdown",
   "metadata": {},
   "source": [
    "### Used libraries"
   ]
  },
  {
   "cell_type": "code",
   "execution_count": 17,
   "metadata": {},
   "outputs": [],
   "source": [
    "import numpy as np\n",
    "import scipy as sp\n",
    "from skimage.draw import line_nd\n",
    "import cv2\n",
    "from copy import deepcopy\n",
    "import matplotlib\n",
    "from matplotlib import pyplot as plt\n",
    "import ipywidgets as widgets\n",
    "\n",
    "matplotlib.rcParams['figure.figsize'] = [8, 8]\n"
   ]
  },
  {
   "cell_type": "markdown",
   "metadata": {},
   "source": [
    "### Chosing path to a file and parameters"
   ]
  },
  {
   "cell_type": "code",
   "execution_count": 18,
   "metadata": {},
   "outputs": [
    {
     "data": {
      "application/vnd.jupyter.widget-view+json": {
       "model_id": "ca0dce4adacc432c8e2c4ae794c68ab2",
       "version_major": 2,
       "version_minor": 0
      },
      "text/plain": [
       "Text(value='./example_photos/Kropka.jpg', description='Path to a file:', placeholder='Type path to a file')"
      ]
     },
     "metadata": {},
     "output_type": "display_data"
    },
    {
     "data": {
      "application/vnd.jupyter.widget-view+json": {
       "model_id": "85ba11d67afd47cc9ca624fa84c22f53",
       "version_major": 2,
       "version_minor": 0
      },
      "text/plain": [
       "IntSlider(value=90, description='Number of scans:', max=720, min=90, step=90)"
      ]
     },
     "metadata": {},
     "output_type": "display_data"
    },
    {
     "data": {
      "application/vnd.jupyter.widget-view+json": {
       "model_id": "6263bb76a31d48719011ea4d31698da7",
       "version_major": 2,
       "version_minor": 0
      },
      "text/plain": [
       "IntSlider(value=180, description='Number of detectors:', max=720, min=90, step=90)"
      ]
     },
     "metadata": {},
     "output_type": "display_data"
    },
    {
     "data": {
      "application/vnd.jupyter.widget-view+json": {
       "model_id": "197b9657674e4067a2c8ef515050c541",
       "version_major": 2,
       "version_minor": 0
      },
      "text/plain": [
       "IntSlider(value=135, description='Opening width:', max=270, min=45, step=45)"
      ]
     },
     "metadata": {},
     "output_type": "display_data"
    }
   ],
   "source": [
    "wdg_path = widgets.Text(value='./example_photos/Kropka.jpg', placeholder='Type path to a file', description='Path to a file:')\n",
    "wdg_scans = widgets.IntSlider(value=90, min=90, max=720, step = 90, description='Number of scans:')\n",
    "wdg_detectors = widgets.IntSlider(value=180, min=90, max=720, step = 90, description='Number of detectors:')\n",
    "wdg_opening = widgets.IntSlider(value=135, min=45, max=270, step = 45, description='Opening width:')\n",
    "\n",
    "display(wdg_path)\n",
    "display(wdg_scans)\n",
    "display(wdg_detectors)\n",
    "display(wdg_opening)\n"
   ]
  },
  {
   "cell_type": "markdown",
   "metadata": {},
   "source": [
    "### Loading parameters"
   ]
  },
  {
   "cell_type": "code",
   "execution_count": 19,
   "metadata": {},
   "outputs": [
    {
     "name": "stdout",
     "output_type": "stream",
     "text": [
      "90 180 135\n"
     ]
    },
    {
     "data": {
      "image/png": "[encoded data removed]",
      "text/plain": [
       "<Figure size 576x576 with 1 Axes>"
      ]
     },
     "metadata": {
      "needs_background": "light"
     },
     "output_type": "display_data"
    }
   ],
   "source": [
    "input_img = plt.imread(wdg_path.value)\n",
    "\n",
    "if len(np.shape(input_img)) == 3:\n",
    "    input_img = cv2.cvtColor(input_img, cv2.COLOR_BGR2GRAY)\n",
    "    \n",
    "scans = wdg_scans.value\n",
    "detectors = wdg_detectors.value\n",
    "opening = wdg_opening.value\n",
    "\n",
    "print(scans, detectors, opening)\n",
    "\n",
    "plt.imshow(input_img, cmap = 'gray')\n",
    "plt.show()"
   ]
  },
  {
   "cell_type": "markdown",
   "metadata": {},
   "source": [
    "### Finding the circle described over an image"
   ]
  },
  {
   "cell_type": "code",
   "execution_count": 20,
   "metadata": {},
   "outputs": [
    {
     "name": "stdout",
     "output_type": "stream",
     "text": [
      "Shape: 400 400\n",
      "Center: 200 200\n",
      "Radius: 282\n"
     ]
    }
   ],
   "source": [
    "# Image shape\n",
    "img_heigth, img_width = np.shape(input_img)\n",
    "print(\"Shape:\", img_heigth, img_width)\n",
    "\n",
    "# Center of mass\n",
    "cx = int(img_heigth / 2)\n",
    "cy = int(img_width / 2)\n",
    "print(\"Center:\", cx, cy)\n",
    "\n",
    "# Radius\n",
    "radius = int(np.floor(0.5 * np.sqrt(img_heigth**2 + img_width**2)))\n",
    "print(\"Radius:\", radius)"
   ]
  },
  {
   "cell_type": "markdown",
   "metadata": {},
   "source": [
    "### Scanning"
   ]
  },
  {
   "cell_type": "code",
   "execution_count": 21,
   "metadata": {},
   "outputs": [],
   "source": [
    "alpha = 360 / scans\n",
    "step = alpha\n",
    "n = detectors\n",
    "l = opening\n",
    "\n",
    "shots = []\n",
    "E = []\n",
    "D = []\n",
    "\n",
    "sinogram = []\n",
    "\n",
    "# Prepare preview image so that emitters and detectors will be seen\n",
    "border_width = max(2 * radius - img_width, 2 * radius - img_heigth)\n",
    "preview_img = deepcopy(input_img)\n",
    "preview_img = cv2.cvtColor(preview_img,cv2.COLOR_GRAY2RGB)\n",
    "preview_img = cv2.copyMakeBorder(preview_img, border_width, border_width, border_width, border_width, cv2.BORDER_CONSTANT, value = (0,0,0))\n",
    "\n",
    "for _ in range(scans):\n",
    "    shots.append(deepcopy(preview_img))\n",
    "    cv2.circle(shots[-1], (cx + border_width, cy + border_width), radius, (255,0,255), 1)\n",
    "\n",
    "    # Calculating emiter's position\n",
    "    xe = radius * np.cos(np.deg2rad(alpha))\n",
    "    ye = radius * np.sin(np.deg2rad(alpha))\n",
    "\n",
    "    E.append((int(cx + xe), int(cy + (-1)*ye)))\n",
    "\n",
    "    # Drawing emiter over an image\n",
    "    cv2.circle(shots[-1], (E[-1][0] + border_width, E[-1][1] + border_width), 7, (0,255,0), 3)\n",
    "\n",
    "    D.append([])\n",
    "    sinogram.append([])\n",
    "\n",
    "    for i in range(n):\n",
    "        # Calculating detector's position\n",
    "        xd = radius * np.cos(np.deg2rad(alpha + 180 - l / 2 + i * (l / (n-1))))\n",
    "        yd = radius * np.sin(np.deg2rad(alpha + 180 - l / 2 + i * (l / (n-1))))\n",
    "\n",
    "        D[-1].append((int(xd + cx), int((-1)*yd + cy)))\n",
    "\n",
    "        # Drawing detector on the image\n",
    "        cv2.circle(shots[-1], (D[-1][-1][0] + border_width, D[-1][-1][1] + border_width), 3, (255,0,0), 1)\n",
    "\n",
    "        # Calculating points of the line\n",
    "        line_x_points, line_y_points = line_nd(E[-1], D[-1][-1])\n",
    "\n",
    "        brightness = 0\n",
    "        sumof = 0\n",
    "\n",
    "        for (x, y) in zip(line_x_points, line_y_points):\n",
    "            # Drawing line on the image\n",
    "            cv2.circle(shots[-1], (x + border_width, y + border_width), 0, (0,0,255), -1)\n",
    "\n",
    "            # Calculating mean brightness\n",
    "            if x >= 0 and x < img_heigth and y >= 0 and y < img_width:\n",
    "                brightness += input_img[x][y]\n",
    "                sumof += 1\n",
    "\n",
    "        # # Adding results to sinogram\n",
    "        if sumof != 0:\n",
    "            brightness = brightness / sumof\n",
    "        else:\n",
    "            brightness = 0\n",
    "        sinogram[-1].append(brightness)\n",
    "\n",
    "    alpha += step"
   ]
  },
  {
   "cell_type": "markdown",
   "metadata": {},
   "source": [
    "### Scannig step by step"
   ]
  },
  {
   "cell_type": "code",
   "execution_count": 22,
   "metadata": {},
   "outputs": [
    {
     "data": {
      "application/vnd.jupyter.widget-view+json": {
       "model_id": "1a09613cb90a4fc3b2fbe14b84bfb417",
       "version_major": 2,
       "version_minor": 0
      },
      "text/plain": [
       "interactive(children=(IntSlider(value=44, description='n', max=89), Output()), _dom_classes=('widget-interact'…"
      ]
     },
     "metadata": {},
     "output_type": "display_data"
    },
    {
     "data": {
      "text/plain": [
       "<function __main__.display_shot(n)>"
      ]
     },
     "execution_count": 22,
     "metadata": {},
     "output_type": "execute_result"
    }
   ],
   "source": [
    "def display_shot(n):\n",
    "    plt.imshow(shots[n])\n",
    "    plt.show()\n",
    "    \n",
    "widgets.interact(display_shot, n = (0, scans - 1, 1))"
   ]
  },
  {
   "cell_type": "markdown",
   "metadata": {},
   "source": [
    "### Sinogram"
   ]
  },
  {
   "cell_type": "code",
   "execution_count": 23,
   "metadata": {},
   "outputs": [
    {
     "data": {
      "image/png": "[encoded data removed]",
      "text/plain": [
       "<Figure size 576x576 with 1 Axes>"
      ]
     },
     "metadata": {
      "needs_background": "light"
     },
     "output_type": "display_data"
    }
   ],
   "source": [
    "plt.imshow(sinogram, cmap='gray')\n",
    "plt.show()"
   ]
  },
  {
   "cell_type": "markdown",
   "metadata": {},
   "source": [
    "### Sinogram filtration"
   ]
  },
  {
   "cell_type": "code",
   "execution_count": 24,
   "metadata": {},
   "outputs": [],
   "source": [
    "kernel = []\n",
    "for k in range(-10, 11):\n",
    "    if k == 0:\n",
    "        kernel.append(1)\n",
    "    else:\n",
    "        if k % 2 == 0:\n",
    "            kernel.append(0)\n",
    "        else:\n",
    "            kernel.append((-4 / np.pi**2)/(k**2))\n",
    "\n",
    "plt.plot([k for k in range(21)], kernel)\n",
    "plt.show()\n",
    "\n",
    "for i in range(len(sinogram)):\n",
    "    sinogram[i] = np.convolve(sinogram[i], kernel, mode='same')\n",
    "\n",
    "plt.imshow(sinogram, cmap='gray')\n",
    "plt.show()\n"
   ]
  },
  {
   "cell_type": "markdown",
   "metadata": {},
   "source": [
    "### Backtracing"
   ]
  },
  {
   "cell_type": "code",
   "execution_count": 25,
   "metadata": {},
   "outputs": [],
   "source": [
    "backshots = []\n",
    "blank_image = np.zeros((img_heigth, img_width))\n",
    "\n",
    "for i in range(len(sinogram)):\n",
    "    if i == 0:\n",
    "        backshots.append(deepcopy(blank_image))\n",
    "    else:\n",
    "        backshots.append(deepcopy(backshots[-1]))\n",
    "    for j in range(n):\n",
    "        line_x_points, line_y_points = line_nd(E[i], D[i][j])\n",
    "        for (x, y) in zip(line_x_points, line_y_points):\n",
    "            # Calculating mean brightness\n",
    "            if x >= 0 and x < img_heigth and y >= 0 and y < img_width:\n",
    "                backshots[-1][x][y] += sinogram[i][j]\n"
   ]
  },
  {
   "cell_type": "markdown",
   "metadata": {},
   "source": [
    "### Backstracking step by step"
   ]
  },
  {
   "cell_type": "code",
   "execution_count": 26,
   "metadata": {},
   "outputs": [
    {
     "data": {
      "application/vnd.jupyter.widget-view+json": {
       "model_id": "3ee99d41af354f31a635605cdb1cd63e",
       "version_major": 2,
       "version_minor": 0
      },
      "text/plain": [
       "interactive(children=(IntSlider(value=44, description='n', max=89), Output()), _dom_classes=('widget-interact'…"
      ]
     },
     "metadata": {},
     "output_type": "display_data"
    },
    {
     "data": {
      "text/plain": [
       "<function __main__.display_backshot(n)>"
      ]
     },
     "execution_count": 26,
     "metadata": {},
     "output_type": "execute_result"
    }
   ],
   "source": [
    "def display_backshot(n):\n",
    "    plt.imshow(backshots[n], cmap = 'gray')\n",
    "    plt.show()\n",
    "    \n",
    "widgets.interact(display_backshot, n = (0, scans - 1, 1))"
   ]
  }
 ],
 "metadata": {
  "interpreter": {
   "hash": "aac63f29b833a22f0f5b0386fc8cbe8cf40522d8dd547a2436d98472f289c3c0"
  },
  "kernelspec": {
   "display_name": "Python 3.7.8 64-bit ('3.7.8': pyenv)",
   "language": "python",
   "name": "python3"
  },
  "language_info": {
   "codemirror_mode": {
    "name": "ipython",
    "version": 3
   },
   "file_extension": ".py",
   "mimetype": "text/x-python",
   "name": "python",
   "nbconvert_exporter": "python",
   "pygments_lexer": "ipython3",
   "version": "3.7.8"
  },
  "orig_nbformat": 4
 },
 "nbformat": 4,
 "nbformat_minor": 2
}
